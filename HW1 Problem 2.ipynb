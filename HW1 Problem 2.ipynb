{
 "cells": [
  {
   "cell_type": "code",
   "execution_count": 568,
   "id": "cf4c1179-ebdc-4759-81ce-7c8816e2c1ef",
   "metadata": {},
   "outputs": [],
   "source": [
    "import numpy as np\n",
    "import pandas as pd\n",
    "import matplotlib.pyplot as plt"
   ]
  },
  {
   "cell_type": "code",
   "execution_count": 569,
   "id": "c50b4ed2-027c-4c20-9a77-9115bfe119c4",
   "metadata": {},
   "outputs": [
    {
     "data": {
      "text/html": [
       "<div>\n",
       "<style scoped>\n",
       "    .dataframe tbody tr th:only-of-type {\n",
       "        vertical-align: middle;\n",
       "    }\n",
       "\n",
       "    .dataframe tbody tr th {\n",
       "        vertical-align: top;\n",
       "    }\n",
       "\n",
       "    .dataframe thead th {\n",
       "        text-align: right;\n",
       "    }\n",
       "</style>\n",
       "<table border=\"1\" class=\"dataframe\">\n",
       "  <thead>\n",
       "    <tr style=\"text-align: right;\">\n",
       "      <th></th>\n",
       "      <th>X1</th>\n",
       "      <th>X2</th>\n",
       "      <th>X3</th>\n",
       "      <th>Y</th>\n",
       "    </tr>\n",
       "  </thead>\n",
       "  <tbody>\n",
       "    <tr>\n",
       "      <th>0</th>\n",
       "      <td>0.000000</td>\n",
       "      <td>3.440000</td>\n",
       "      <td>0.440000</td>\n",
       "      <td>4.387545</td>\n",
       "    </tr>\n",
       "    <tr>\n",
       "      <th>1</th>\n",
       "      <td>0.040404</td>\n",
       "      <td>0.134949</td>\n",
       "      <td>0.888485</td>\n",
       "      <td>2.679650</td>\n",
       "    </tr>\n",
       "    <tr>\n",
       "      <th>2</th>\n",
       "      <td>0.080808</td>\n",
       "      <td>0.829899</td>\n",
       "      <td>1.336970</td>\n",
       "      <td>2.968490</td>\n",
       "    </tr>\n",
       "    <tr>\n",
       "      <th>3</th>\n",
       "      <td>0.121212</td>\n",
       "      <td>1.524848</td>\n",
       "      <td>1.785455</td>\n",
       "      <td>3.254065</td>\n",
       "    </tr>\n",
       "    <tr>\n",
       "      <th>4</th>\n",
       "      <td>0.161616</td>\n",
       "      <td>2.219798</td>\n",
       "      <td>2.233939</td>\n",
       "      <td>3.536375</td>\n",
       "    </tr>\n",
       "  </tbody>\n",
       "</table>\n",
       "</div>"
      ],
      "text/plain": [
       "         X1        X2        X3         Y\n",
       "0  0.000000  3.440000  0.440000  4.387545\n",
       "1  0.040404  0.134949  0.888485  2.679650\n",
       "2  0.080808  0.829899  1.336970  2.968490\n",
       "3  0.121212  1.524848  1.785455  3.254065\n",
       "4  0.161616  2.219798  2.233939  3.536375"
      ]
     },
     "execution_count": 569,
     "metadata": {},
     "output_type": "execute_result"
    }
   ],
   "source": [
    "# Importing the csv file from pc. \n",
    "file_path = 'E:/UNCC/UNCC ML/D3.csv'\n",
    "sample = pd.DataFrame(pd.read_csv(file_path))\n",
    "sample.head()"
   ]
  },
  {
   "cell_type": "code",
   "execution_count": 570,
   "id": "24ef7aa3-9105-4937-9c46-c50b81533346",
   "metadata": {},
   "outputs": [
    {
     "name": "stdout",
     "output_type": "stream",
     "text": [
      "X_0 =  [0.         0.04040404 0.08080808 0.12121212 0.16161616]\n",
      "X_1 =  [3.44       0.1349495  0.82989899 1.52484848 2.21979798]\n",
      "X_2 =  [0.44       0.88848485 1.3369697  1.78545454 2.23393939]\n",
      "y =  [4.38754501 2.6796499  2.96848981 3.25406475 3.53637472]\n",
      "m =  100\n",
      "n =  100\n"
     ]
    }
   ],
   "source": [
    "# Creating different array for the four columns\n",
    "X_0 = sample.values[:,0]\n",
    "X_1 = sample.values[:,1]\n",
    "X_2 = sample.values[:,2]\n",
    "y = sample.values[:,3]\n",
    "# Printing the first 5 values of the arrays and number of data points\n",
    "print('X_0 = ', X_0[:5])\n",
    "print('X_1 = ', X_1[:5])\n",
    "print('X_2 = ', X_2[:5])\n",
    "print('y = ', y[:5])\n",
    "m = len(X_1)\n",
    "n = len(y)\n",
    "print('m = ', m)\n",
    "print('n = ', n)"
   ]
  },
  {
   "cell_type": "code",
   "execution_count": 571,
   "id": "7bb75452-ddf8-47f8-a48e-1920496242d4",
   "metadata": {},
   "outputs": [
    {
     "data": {
      "text/plain": [
       "array([[1.],\n",
       "       [1.],\n",
       "       [1.]])"
      ]
     },
     "execution_count": 571,
     "metadata": {},
     "output_type": "execute_result"
    }
   ],
   "source": [
    "# Assuming a linear equation y = w0x0 + w1x1 +w2x2 + w3x3\n",
    "# Initiation an array to hold the value of x_0 variable\n",
    "a_0 = np.ones((m, 1))\n",
    "a_0[:3]"
   ]
  },
  {
   "cell_type": "code",
   "execution_count": 572,
   "id": "7dbe170c-9c43-4bba-940c-1f527ad750d9",
   "metadata": {},
   "outputs": [],
   "source": [
    "# Initiation arrays to hold the value of x variable from each column\n",
    "a_x0_1 = X_0.reshape(m,1)\n",
    "a_x1_1 = X_1.reshape(m,1)\n",
    "a_x2_1 = X_2.reshape(m,1)"
   ]
  },
  {
   "cell_type": "code",
   "execution_count": 573,
   "id": "eb1a21ed-03df-4a45-8f5c-41a5ca7f062e",
   "metadata": {},
   "outputs": [
    {
     "name": "stdout",
     "output_type": "stream",
     "text": [
      "5 values of x variables for 1st column: \n",
      " [[1.         0.         3.44       0.44      ]\n",
      " [1.         0.04040404 0.1349495  0.88848485]\n",
      " [1.         0.08080808 0.82989899 1.3369697 ]\n",
      " [1.         0.12121212 1.52484848 1.78545454]\n",
      " [1.         0.16161616 2.21979798 2.23393939]]\n"
     ]
    }
   ],
   "source": [
    "# Creating a matrix for all x variable\n",
    "a_x0 = np.hstack((a_0, a_x0_1,  a_x1_1, a_x2_1))\n",
    "print('5 values of x variables for 1st column: \\n', a_x0[:5])"
   ]
  },
  {
   "cell_type": "code",
   "execution_count": 574,
   "id": "befb13d3-1e2a-49f1-9b80-ab539393010b",
   "metadata": {},
   "outputs": [
    {
     "data": {
      "text/plain": [
       "array([0., 0., 0., 0.])"
      ]
     },
     "execution_count": 574,
     "metadata": {},
     "output_type": "execute_result"
    }
   ],
   "source": [
    "# Setting the values of the coefficient w\n",
    "w = np.zeros(4)\n",
    "w"
   ]
  },
  {
   "cell_type": "code",
   "execution_count": 575,
   "id": "478ec093-978a-4247-8519-777dfd863fe3",
   "metadata": {},
   "outputs": [],
   "source": [
    "# Creating a function for error calculation\n",
    "def error_calculation(a, y, w):\n",
    "    predictions = a.dot(w)\n",
    "    difference = np.subtract(predictions,y)\n",
    "    error = 1/(2*m)*np.sum(np.square(difference))\n",
    "    return error  "
   ]
  },
  {
   "cell_type": "code",
   "execution_count": 576,
   "id": "95f84f11-bd86-400c-8c3f-c99c7e055c57",
   "metadata": {},
   "outputs": [
    {
     "name": "stdout",
     "output_type": "stream",
     "text": [
      "The error considering all x values:  5.524\n"
     ]
    }
   ],
   "source": [
    "# Testing the error for initial values of w\n",
    "error_x0 = error_calculation(a_x0, y, w) \n",
    "print(f'The error considering all x values: {error_x0: .3f}') "
   ]
  },
  {
   "cell_type": "code",
   "execution_count": 577,
   "id": "512288b7-c6b0-48f4-aece-a9549676a2ec",
   "metadata": {},
   "outputs": [],
   "source": [
    "# Creating a function to calculate the gradients for a given number of iteration and learning rate\n",
    "def gradient(a, y, w, alpha, iteration):\n",
    "    m = len(y)\n",
    "    error_per_iter = np.zeros(iterations)\n",
    "    for i in range(iterations):\n",
    "        predictions = a.dot(w)\n",
    "        difference = np.subtract(predictions,y)\n",
    "        grad = (alpha/m)*a.transpose().dot(difference)\n",
    "        w -= grad\n",
    "        error_per_iter[i] = error_calculation(a, y, w)\n",
    "    return w, error_per_iter"
   ]
  },
  {
   "cell_type": "code",
   "execution_count": 578,
   "id": "2041c725-8c6e-4eb2-9a2b-a3e102e0f312",
   "metadata": {},
   "outputs": [
    {
     "name": "stdout",
     "output_type": "stream",
     "text": [
      "Final value of theta 0 = [ 5.31416563 -2.00371905  0.53256359 -0.26560164]\n",
      "iter_history_0 = [4.13064348 3.51770697 3.12758306 ... 0.73846424 0.73846424 0.73846424]\n",
      "Final error for learning rate 0.1 =  0.738\n"
     ]
    }
   ],
   "source": [
    "# Calculation for the x values learning rate 0.1\n",
    "iterations = 1500 # Number of iteration \n",
    "alpha0 = 0.1 # Learning rate\n",
    "theta0, iter_history0 = gradient(a_x0, y, w, alpha0, iterations) \n",
    "print('Final value of theta 0 =', theta0) \n",
    "print('iter_history_0 =', iter_history0) \n",
    "print(f'Final error for learning rate 0.1 = {iter_history0[-1]: .3f}') "
   ]
  },
  {
   "cell_type": "code",
   "execution_count": 579,
   "id": "4e538a00-49d8-43d1-9af5-7e88c7f8af87",
   "metadata": {},
   "outputs": [
    {
     "name": "stdout",
     "output_type": "stream",
     "text": [
      "Final value of theta 1 = [ 5.31416683 -2.00371922  0.53256339 -0.26560181]\n",
      "iter_history_1 = [0.73846424 0.73846424 0.73846424 ... 0.73846424 0.73846424 0.73846424]\n",
      "Final error for learning rate 0.01 =  0.738\n"
     ]
    }
   ],
   "source": [
    "# Calculation for the x values learning rate 0.01\n",
    "iterations = 1500 # Number of iteration \n",
    "alpha1 = 0.01 # Learning rate\n",
    "theta1, iter_history1 = gradient(a_x0, y, w, alpha1, iterations) \n",
    "print('Final value of theta 1 =', theta1) \n",
    "print('iter_history_1 =', iter_history1) \n",
    "print(f'Final error for learning rate 0.01 = {iter_history1[-1]: .3f}') "
   ]
  },
  {
   "cell_type": "code",
   "execution_count": 580,
   "id": "88cbc14c-2e89-4fd2-a421-166518a20090",
   "metadata": {},
   "outputs": [
    {
     "data": {
      "image/png": "[encoded data removed]",
      "text/plain": [
       "<Figure size 600x400 with 1 Axes>"
      ]
     },
     "metadata": {},
     "output_type": "display_data"
    }
   ],
   "source": [
    "# Plot of error vs iteration for all three values of x\n",
    "plt.plot(range(1, iterations + 1), iter_history0, color='blue', label='Learning rate 0.1') \n",
    "plt.plot(range(1, iterations + 1), iter_history1, color='green', label='Learning rate 0.01') \n",
    "plt.rcParams[\"figure.figsize\"] = (6, 4) \n",
    "plt.grid(True) \n",
    "plt.xlabel('Number of iterations') \n",
    "plt.ylabel('Error in Each Iteration') \n",
    "plt.title('Convergence of Gradient Descent') \n",
    "plt.legend()\n",
    "plt.show() "
   ]
  },
  {
   "cell_type": "code",
   "execution_count": 581,
   "id": "0895242c-db67-4a96-b848-0731ae80ad55",
   "metadata": {},
   "outputs": [],
   "source": [
    "global t\n",
    "t = theta0\n",
    "def func(x1,x2,x3):\n",
    "    y=theta0[0]*1+theta0[1]*x1+theta0[2]*x2+theta0[3]*x3\n",
    "    return y    "
   ]
  },
  {
   "cell_type": "code",
   "execution_count": 582,
   "id": "fd47ab98-426f-4a66-b16a-18f261d4fbaf",
   "metadata": {},
   "outputs": [
    {
     "name": "stdout",
     "output_type": "stream",
     "text": [
      "Prediction for (1, 1, 1):  3.577\n",
      "Prediction for (2, 0, 4):  0.244\n",
      "Prediction for (3, 2, 1):  0.103\n"
     ]
    }
   ],
   "source": [
    "a = func(1,1,1)\n",
    "print(f'Prediction for (1, 1, 1): {a: .3f}')\n",
    "a = func(2,0,4)\n",
    "print(f'Prediction for (2, 0, 4): {a: .3f}')\n",
    "a = func(3,2,1)\n",
    "print(f'Prediction for (3, 2, 1): {a: .3f}')"
   ]
  }
 ],
 "metadata": {
  "kernelspec": {
   "display_name": "Python 3 (ipykernel)",
   "language": "python",
   "name": "python3"
  },
  "language_info": {
   "codemirror_mode": {
    "name": "ipython",
    "version": 3
   },
   "file_extension": ".py",
   "mimetype": "text/x-python",
   "name": "python",
   "nbconvert_exporter": "python",
   "pygments_lexer": "ipython3",
   "version": "3.12.4"
  }
 },
 "nbformat": 4,
 "nbformat_minor": 5
}
