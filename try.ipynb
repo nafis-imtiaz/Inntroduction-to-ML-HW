{
 "cells": [
  {
   "cell_type": "code",
   "execution_count": 1,
   "id": "cf4c1179-ebdc-4759-81ce-7c8816e2c1ef",
   "metadata": {},
   "outputs": [],
   "source": [
    "import numpy as np\n",
    "import pandas as pd\n",
    "import matplotlib.pyplot as plt"
   ]
  },
  {
   "cell_type": "code",
   "execution_count": 2,
   "id": "c50b4ed2-027c-4c20-9a77-9115bfe119c4",
   "metadata": {},
   "outputs": [],
   "source": [
    "file_path = 'E:/UNCC/UNCC ML/D3.csv'\n",
    "sample = pd.DataFrame(pd.read_csv(file_path))\n",
    "#sample.head(6)"
   ]
  },
  {
   "cell_type": "code",
   "execution_count": 3,
   "id": "24ef7aa3-9105-4937-9c46-c50b81533346",
   "metadata": {},
   "outputs": [
    {
     "name": "stdout",
     "output_type": "stream",
     "text": [
      "X_0 =  [0.         0.04040404 0.08080808 0.12121212 0.16161616]\n",
      "X_1 =  [3.44       0.1349495  0.82989899 1.52484848 2.21979798]\n",
      "X_2 =  [0.44       0.88848485 1.3369697  1.78545454 2.23393939]\n",
      "y =  [4.38754501 2.6796499  2.96848981 3.25406475 3.53637472]\n",
      "m =  100\n",
      "n =  100\n"
     ]
    }
   ],
   "source": [
    "X_0 = sample.values[:,0]\n",
    "X_1 = sample.values[:,1]\n",
    "X_2 = sample.values[:,2]\n",
    "y = sample.values[:,3]\n",
    "print('X_0 = ', X_0[:5])\n",
    "print('X_1 = ', X_1[:5])\n",
    "print('X_2 = ', X_2[:5])\n",
    "print('y = ', y[:5])\n",
    "m = len(X_1)\n",
    "n = len(y)\n",
    "print('m = ', m)\n",
    "print('n = ', n)"
   ]
  },
  {
   "cell_type": "code",
   "execution_count": 4,
   "id": "7bb75452-ddf8-47f8-a48e-1920496242d4",
   "metadata": {},
   "outputs": [
    {
     "data": {
      "text/plain": [
       "array([[1.],\n",
       "       [1.],\n",
       "       [1.]])"
      ]
     },
     "execution_count": 4,
     "metadata": {},
     "output_type": "execute_result"
    }
   ],
   "source": [
    "a_0 = np.ones((m, 1))\n",
    "a_0[:3]"
   ]
  },
  {
   "cell_type": "code",
   "execution_count": 5,
   "id": "7dbe170c-9c43-4bba-940c-1f527ad750d9",
   "metadata": {},
   "outputs": [],
   "source": [
    "a_x0_1 = X_0.reshape(m,1)\n",
    "a_x1_1 = X_1.reshape(m,1)\n",
    "a_x2_1 = X_2.reshape(m,1)\n",
    "#a_x0_1[:3]\n",
    "#print(a_x1_1[:3])\n",
    "#print(a_x2_1[:3])"
   ]
  },
  {
   "cell_type": "code",
   "execution_count": 6,
   "id": "eb1a21ed-03df-4a45-8f5c-41a5ca7f062e",
   "metadata": {},
   "outputs": [
    {
     "data": {
      "text/plain": [
       "array([[1.        , 0.        ],\n",
       "       [1.        , 0.04040404],\n",
       "       [1.        , 0.08080808],\n",
       "       [1.        , 0.12121212],\n",
       "       [1.        , 0.16161616]])"
      ]
     },
     "execution_count": 6,
     "metadata": {},
     "output_type": "execute_result"
    }
   ],
   "source": [
    "a_x0 = np.hstack((a_0, a_x0_1))\n",
    "a_x1 = np.hstack((a_0, a_x1_1))\n",
    "a_x2 = np.hstack((a_0, a_x2_1))\n",
    "a_x0[:5]\n",
    "#print(np.transpose(a_x0[:5]))\n",
    "#print(a_x1[:5])\n",
    "#print(a_x2[:5])"
   ]
  },
  {
   "cell_type": "code",
   "execution_count": 7,
   "id": "befb13d3-1e2a-49f1-9b80-ab539393010b",
   "metadata": {},
   "outputs": [
    {
     "data": {
      "text/plain": [
       "array([0., 0.])"
      ]
     },
     "execution_count": 7,
     "metadata": {},
     "output_type": "execute_result"
    }
   ],
   "source": [
    "#w = np.zeros((2,1))\n",
    "w = np.zeros(2)\n",
    "w"
   ]
  },
  {
   "cell_type": "code",
   "execution_count": 8,
   "id": "478ec093-978a-4247-8519-777dfd863fe3",
   "metadata": {},
   "outputs": [],
   "source": [
    "def error_calculation(a, y, w):\n",
    "    #print(a[:3])\n",
    "    #print(w)\n",
    "    predictions = a.dot(w)\n",
    "    #print(predictions)\n",
    "    difference = np.subtract(predictions,y)\n",
    "    #print(difference)\n",
    "    error = 1/(2*m)*np.sum(np.square(difference))\n",
    "    #print(error)\n",
    "    return error  "
   ]
  },
  {
   "cell_type": "code",
   "execution_count": 9,
   "id": "95f84f11-bd86-400c-8c3f-c99c7e055c57",
   "metadata": {},
   "outputs": [
    {
     "name": "stdout",
     "output_type": "stream",
     "text": [
      "The error for given \n",
      "X_0 values: 5.524438459196242 \n",
      "X_1 values: 5.524438459196242 \n",
      "X_2 values: 5.524438459196242\n"
     ]
    }
   ],
   "source": [
    "error_x0 = error_calculation(a_x0, y, w) \n",
    "#error_x0\n",
    "error_x1 = error_calculation(a_x1, y, w) \n",
    "error_x2 = error_calculation(a_x2, y, w) \n",
    "print(f'The error for given \\nX_0 values: {error_x0} \\nX_1 values: {error_x1} \\nX_2 values: {error_x2}') "
   ]
  },
  {
   "cell_type": "code",
   "execution_count": 10,
   "id": "512288b7-c6b0-48f4-aece-a9549676a2ec",
   "metadata": {},
   "outputs": [],
   "source": [
    "def gradient(a, y, w, alpha, iteration):\n",
    "    m = len(y)\n",
    "    error_per_iter = np.zeros(iterations)\n",
    "    for i in range(iterations):\n",
    "        predictions = a.dot(w)\n",
    "        difference = np.subtract(predictions,y)\n",
    "        grad = (alpha/m)*a.transpose().dot(difference)\n",
    "        w -= grad\n",
    "        error_per_iter[i] = error_calculation(a, y, w)\n",
    "    return w, error_per_iter"
   ]
  },
  {
   "cell_type": "code",
   "execution_count": 11,
   "id": "2041c725-8c6e-4eb2-9a2b-a3e102e0f312",
   "metadata": {},
   "outputs": [
    {
     "name": "stdout",
     "output_type": "stream",
     "text": [
      "Final value of theta 0 = [ 5.71850653 -1.9568206 ]\n",
      "iter_history_0 = [5.48226715 5.44290965 5.40604087 ... 0.99063932 0.99061433 0.99058944]\n"
     ]
    }
   ],
   "source": [
    "w = [0., 0.] \n",
    "iterations = 1500 \n",
    "alpha = 0.01 \n",
    "theta0, iter_history0 = gradient(a_x0, y, w, alpha, iterations) \n",
    "print('Final value of theta 0 =', theta0) \n",
    "print('iter_history_0 =', iter_history0) "
   ]
  },
  {
   "cell_type": "code",
   "execution_count": 12,
   "id": "660d3ab8-140f-4346-b1bc-d1f418ce281a",
   "metadata": {},
   "outputs": [
    {
     "name": "stdout",
     "output_type": "stream",
     "text": [
      "Final value of theta 1 = [0.71988473 0.56390334]\n",
      "iter_history1 = [5.29831663 5.09909109 4.92356115 ... 3.5993997  3.59939955 3.5993994 ]\n"
     ]
    }
   ],
   "source": [
    "w = [0., 0.] \n",
    "iterations = 1500 \n",
    "alpha = 0.01 \n",
    "theta1, iter_history1 = gradient(a_x1, y, w, alpha, iterations) \n",
    "print('Final value of theta 1 =', theta1) \n",
    "print('iter_history1 =', iter_history1)"
   ]
  },
  {
   "cell_type": "code",
   "execution_count": 13,
   "id": "518419b2-341a-4063-b2aa-5270b3cc55cc",
   "metadata": {},
   "outputs": [
    {
     "name": "stdout",
     "output_type": "stream",
     "text": [
      "Final value of theta 2 = [ 2.78048129 -0.48451631]\n",
      "iter_history 2 = [5.40768785 5.30397076 5.21178297 ... 3.63053597 3.6305311  3.63052625]\n"
     ]
    }
   ],
   "source": [
    "w = [0., 0.] \n",
    "iterations = 1500 \n",
    "alpha = 0.01 \n",
    "theta2, iter_history2 = gradient(a_x2, y, w, alpha, iterations) \n",
    "print('Final value of theta 2 =', theta2) \n",
    "print('iter_history 2 =', iter_history2)"
   ]
  },
  {
   "cell_type": "code",
   "execution_count": 14,
   "id": "c644c707-3d94-45f9-88a4-47649a6513f0",
   "metadata": {},
   "outputs": [
    {
     "ename": "NameError",
     "evalue": "name 'theta' is not defined",
     "output_type": "error",
     "traceback": [
      "\u001b[1;31m---------------------------------------------------------------------------\u001b[0m",
      "\u001b[1;31mNameError\u001b[0m                                 Traceback (most recent call last)",
      "Cell \u001b[1;32mIn[14], line 3\u001b[0m\n\u001b[0;32m      1\u001b[0m plt\u001b[38;5;241m.\u001b[39mscatter(a_x0[:, \u001b[38;5;241m1\u001b[39m], y, color\u001b[38;5;241m=\u001b[39m\u001b[38;5;124m'\u001b[39m\u001b[38;5;124mred\u001b[39m\u001b[38;5;124m'\u001b[39m, marker\u001b[38;5;241m=\u001b[39m\u001b[38;5;124m'\u001b[39m\u001b[38;5;124m+\u001b[39m\u001b[38;5;124m'\u001b[39m, label\u001b[38;5;241m=\u001b[39m\u001b[38;5;124m'\u001b[39m\u001b[38;5;124mTraining Data\u001b[39m\u001b[38;5;124m'\u001b[39m) \n\u001b[0;32m      2\u001b[0m \u001b[38;5;66;03m# Line plot for the linear regression model \u001b[39;00m\n\u001b[1;32m----> 3\u001b[0m plt\u001b[38;5;241m.\u001b[39mplot(a_x0[:, \u001b[38;5;241m1\u001b[39m], a_x0\u001b[38;5;241m.\u001b[39mdot(theta), color\u001b[38;5;241m=\u001b[39m\u001b[38;5;124m'\u001b[39m\u001b[38;5;124mgreen\u001b[39m\u001b[38;5;124m'\u001b[39m, label\u001b[38;5;241m=\u001b[39m\u001b[38;5;124m'\u001b[39m\u001b[38;5;124mLinear Regression\u001b[39m\u001b[38;5;124m'\u001b[39m) \n\u001b[0;32m      4\u001b[0m \u001b[38;5;66;03m# Plot customizations \u001b[39;00m\n\u001b[0;32m      5\u001b[0m plt\u001b[38;5;241m.\u001b[39mrcParams[\u001b[38;5;124m\"\u001b[39m\u001b[38;5;124mfigure.figsize\u001b[39m\u001b[38;5;124m\"\u001b[39m] \u001b[38;5;241m=\u001b[39m (\u001b[38;5;241m6\u001b[39m, \u001b[38;5;241m6\u001b[39m) \n",
      "\u001b[1;31mNameError\u001b[0m: name 'theta' is not defined"
     ]
    },
    {
     "data": {
      "image/png": "[encoded data removed]",
      "text/plain": [
       "<Figure size 640x480 with 1 Axes>"
      ]
     },
     "metadata": {},
     "output_type": "display_data"
    }
   ],
   "source": [
    "plt.scatter(a_x0[:, 1], y, color='red', marker='+', label='Training Data') \n",
    "# Line plot for the linear regression model \n",
    "plt.plot(a_x0[:, 1], a_x0.dot(theta), color='green', label='Linear Regression') \n",
    "# Plot customizations \n",
    "plt.rcParams[\"figure.figsize\"] = (6, 6) \n",
    "plt.grid(True) \n",
    "#plt.xlabel('Population of City in 10,000s') \n",
    "#plt.ylabel('Profit in $10,000s') \n",
    "plt.title('Linear Regression Fit 0') \n",
    "plt.legend() \n",
    "plt.show() "
   ]
  },
  {
   "cell_type": "code",
   "execution_count": null,
   "id": "fc6d078d-7ee0-4461-8316-c114b8c0be4d",
   "metadata": {},
   "outputs": [],
   "source": [
    "plt.scatter(a_x1[:, 1], y, color='red', marker='+', label='Training Data') \n",
    "# Line plot for the linear regression model \n",
    "plt.plot(a_x1[:, 1], a_x1.dot(theta), color='green', label='Linear Regression') \n",
    "# Plot customizations \n",
    "plt.rcParams[\"figure.figsize\"] = (6, 6) \n",
    "plt.grid(True) \n",
    "#plt.xlabel('Population of City in 10,000s') \n",
    "#plt.ylabel('Profit in $10,000s') \n",
    "plt.title('Linear Regression Fit 1') \n",
    "plt.legend() \n",
    "plt.show() "
   ]
  },
  {
   "cell_type": "code",
   "execution_count": null,
   "id": "d38536dc-0418-443f-9e15-1613f1565ed8",
   "metadata": {},
   "outputs": [],
   "source": [
    "plt.scatter(a_x2[:, 1], y, color='red', marker='+', label='Training Data') \n",
    "# Line plot for the linear regression model \n",
    "plt.plot(a_x2[:, 1], a_x2.dot(theta), color='green', label='Linear Regression') \n",
    "# Plot customizations \n",
    "plt.rcParams[\"figure.figsize\"] = (6, 6) \n",
    "plt.grid(True) \n",
    "#plt.xlabel('Population of City in 10,000s') \n",
    "#plt.ylabel('Profit in $10,000s') \n",
    "plt.title('Linear Regression Fit 2') \n",
    "plt.legend() \n",
    "plt.show()"
   ]
  },
  {
   "cell_type": "code",
   "execution_count": null,
   "id": "88cbc14c-2e89-4fd2-a421-166518a20090",
   "metadata": {},
   "outputs": [],
   "source": [
    "plt.plot(range(1, iterations + 1), iter_history0, color='blue', label='X_0') \n",
    "plt.plot(range(1, iterations + 1), iter_history1, color='green', label='X_1') \n",
    "plt.plot(range(1, iterations + 1), iter_history2, color='red', label='X_2') \n",
    "plt.rcParams[\"figure.figsize\"] = (6, 6) \n",
    "plt.grid(True) \n",
    "plt.xlabel('Number of iterations') \n",
    "plt.ylabel('Error in Each Iteration') \n",
    "plt.title('Convergence of gradient descent') \n",
    "plt.legend() \n",
    "plt.show() "
   ]
  },
  {
   "cell_type": "code",
   "execution_count": null,
   "id": "ff21145f-52c6-4345-b5ef-261a051694db",
   "metadata": {},
   "outputs": [],
   "source": [
    "from IPython.display import display \n",
    "display(sample) "
   ]
  },
  {
   "cell_type": "code",
   "execution_count": null,
   "id": "9c463705-694a-4695-8b42-46e9e56c8543",
   "metadata": {},
   "outputs": [],
   "source": [
    "plt.scatter(X_0, y, color = 'red', marker = 'o')\n",
    "plt.rcParams['figure.figsize'] = (6, 6)\n",
    "plt.xlabel('X_0')\n",
    "plt.xlabel('y')\n",
    "plt.title('Scatter plot of training data')\n",
    "plt.show()"
   ]
  },
  {
   "cell_type": "code",
   "execution_count": null,
   "id": "b36d0a30-29df-4384-a07d-7ded2348c5ce",
   "metadata": {},
   "outputs": [],
   "source": []
  }
 ],
 "metadata": {
  "kernelspec": {
   "display_name": "Python 3 (ipykernel)",
   "language": "python",
   "name": "python3"
  },
  "language_info": {
   "codemirror_mode": {
    "name": "ipython",
    "version": 3
   },
   "file_extension": ".py",
   "mimetype": "text/x-python",
   "name": "python",
   "nbconvert_exporter": "python",
   "pygments_lexer": "ipython3",
   "version": "3.12.4"
  }
 },
 "nbformat": 4,
 "nbformat_minor": 5
}
